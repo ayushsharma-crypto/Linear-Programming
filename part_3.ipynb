{
 "cells": [
  {
   "cell_type": "code",
   "execution_count": 1,
   "id": "df1e3ab9",
   "metadata": {},
   "outputs": [],
   "source": [
    "import cvxpy as cp\n",
    "import numpy as np"
   ]
  },
  {
   "cell_type": "code",
   "execution_count": 2,
   "id": "40cd2818",
   "metadata": {},
   "outputs": [
    {
     "name": "stdout",
     "output_type": "stream",
     "text": [
      "3.499999999929633\n",
      "[[1.5]\n",
      " [2. ]]\n"
     ]
    }
   ],
   "source": [
    "x = cp.Variable(shape=(2,1), name=\"x\")\n",
    "A = np.array([[4,3],[-3,4]])\n",
    "\n",
    "constraints = [cp.matmul(A, x) <= 12, x<=2, x>=0]\n",
    "objective = cp.Maximize(cp.sum(x, axis=0))\n",
    "problem = cp.Problem(objective, constraints)\n",
    "\n",
    "solution = problem.solve()\n",
    "print(solution)\n",
    "\n",
    "print(x.value)"
   ]
  },
  {
   "cell_type": "code",
   "execution_count": null,
   "id": "95d8f12d",
   "metadata": {},
   "outputs": [],
   "source": []
  }
 ],
 "metadata": {
  "kernelspec": {
   "display_name": "Python 3",
   "language": "python",
   "name": "python3"
  },
  "language_info": {
   "codemirror_mode": {
    "name": "ipython",
    "version": 3
   },
   "file_extension": ".py",
   "mimetype": "text/x-python",
   "name": "python",
   "nbconvert_exporter": "python",
   "pygments_lexer": "ipython3",
   "version": "3.8.5"
  }
 },
 "nbformat": 4,
 "nbformat_minor": 5
}
